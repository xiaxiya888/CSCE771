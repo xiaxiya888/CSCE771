{
 "cells": [
  {
   "cell_type": "code",
   "execution_count": 19,
   "metadata": {},
   "outputs": [
    {
     "name": "stdout",
     "output_type": "stream",
     "text": [
      "['https://www.nytimes.com/article/2020-nobel-prize-winners.html \\r\\n', '2020 Nobel Prize Winners: Full List\\r\\n', 'Nobel Prize season begins every October as committees in Sweden and Norway name laureates in a variety of prizes in the sciences, literature and economics, as well as peace work. The announcements started last week with the awarding of the prize in Physiology or Medicine. They wrapped up on Monday, when the Sveriges Riksbank Prize in Economic Sciences in Memory of Alfred Nobel was announced.\\r\\n', 'The Nobel Prizes most years are presented to recipients in Stockholm and Oslo in December. Because of the coronavirus pandemic, the committees are changing their approaches. Some of the events in Stockholm will be canceled in favor of a digital ceremony for the Nobelists, and medals and diplomas are to be distributed to the recipients? embassies and handed over in their home countries. Recipients may be invited to the award ceremony for 2021, if possible.\\r\\n', 'The Oslo ceremony for the peace prize will be smaller than in most years, with a limited audience.\\r\\n', 'The Nobel committee also announced another change last month: Each prize will rise to 10 million Swedish krona, 1 million more than in the previous year. That?s a hike in the prize value of about $112,000 in current exchange rates.\\r\\n', 'The 2020 Winners\\r\\n', 'Physiology or Medicine\\r\\n', 'Drs. Harvey J. Alter, Michael Houghton and Charles M. Rice on Monday received the prize for their discovery of the hepatitis C virus. The Nobel committee said the three scientists had ?made possible blood tests and new medicines that have saved millions of lives.?\\r\\n', 'Physics\\r\\n', '\\r\\n', 'Roger Penrose, Reinhard Genzel and Andrea Ghez are the recipients of the Nobel Prize in Physics for 2020.Credit...Pool photo by Fredrik Sandberg\\r\\n', 'Roger Penrose, Reinhard Genzel and Andrea Ghez received the prize on Tuesday for their discoveries that have improved understanding of the universe, including work on black holes.\\r\\n', 'Chemistry\\r\\n', 'The Nobel Prize in Chemistry was jointly awarded on Wednesday to Emmanuelle Charpentier and Jennifer A. Doudna for their work on the development of Crispr-Cas9, a method for genome editing.\\r\\n', 'Literature\\r\\n', 'The Nobel Prize in Literature was awarded on Thursday to Louise Glck, one of America?s most celebrated poets, ?for her unmistakable poetic voice that with austere beauty makes individual existence universal.?\\r\\n', 'Peace Prize\\r\\n', 'The Nobel Peace Prize was awarded on Friday to the World Food Program for its efforts to combat a surge in global hunger amid the coronavirus pandemic, which has swept around the world with devastating impact.\\r\\n', 'Economic Science\\r\\n', 'Paul R. Milgrom and Robert B. Wilson were awarded the Nobel in economic science on Monday for improvements to auction theory and inventions of new auction formats.\\r\\n', '\\r\\n']\n"
     ]
    }
   ],
   "source": [
    "# Do imports\n",
    "import spacy\n",
    "import codecs\n",
    "import nltk\n",
    "from nltk.tokenize import word_tokenize\n",
    "from nltk.tag import pos_tag\n",
    "\n",
    "#import unicode\n",
    "nlp = spacy.load('en_core_web_sm')\n",
    "\n",
    "f=codecs.open(\"dataset-nyt-nobel2020.txt\",'r','utf-8', errors='ignore')\n",
    "\n",
    "data=f.readlines()\n",
    "print(data)\n"
   ]
  },
  {
   "cell_type": "code",
   "execution_count": 54,
   "metadata": {},
   "outputs": [
    {
     "name": "stdout",
     "output_type": "stream",
     "text": [
      "Alfred Nobel\n",
      "Harvey J. Alter\n",
      "Michael Houghton\n",
      "Charles M. Rice\n",
      "Roger Penrose\n",
      "Reinhard Genzel\n",
      "Andrea Ghez\n",
      "Fredrik Sandberg\n",
      "Roger Penrose\n",
      "Reinhard Genzel\n",
      "Andrea Ghez\n",
      "Emmanuelle Charpentier\n",
      "Jennifer A. Doudna\n",
      "Louise Glck\n",
      "Paul R. Milgrom\n",
      "Robert B. Wilson\n"
     ]
    }
   ],
   "source": [
    "#doc = nlp(data[1])\n",
    "\n",
    "for i in range(len(data)):\n",
    "    doc=nlp(data[i])\n",
    "    #print(doc)\n",
    "    \n",
    "    for ent in doc.ents:\n",
    "        if ent.label_=='PERSON':\n",
    "            print(ent.text)\n",
    "        \n",
    "\n",
    "        \n",
    "    "
   ]
  },
  {
   "cell_type": "code",
   "execution_count": 53,
   "metadata": {},
   "outputs": [
    {
     "name": "stdout",
     "output_type": "stream",
     "text": [
      "Nobel Prize Winners WORK_OF_ART\n",
      "Nobel Prize WORK_OF_ART\n",
      "Physiology or Medicine WORK_OF_ART\n",
      "The Nobel Prizes WORK_OF_ART\n",
      "Nobel WORK_OF_ART\n",
      "Nobel WORK_OF_ART\n",
      "the Nobel Prize in Physics WORK_OF_ART\n",
      "The Nobel Prize in Chemistry WORK_OF_ART\n",
      "The Nobel Prize in Literature WORK_OF_ART\n",
      "The Nobel Peace Prize WORK_OF_ART\n",
      "the Nobel WORK_OF_ART\n"
     ]
    }
   ],
   "source": [
    "for i in range(len(data)):\n",
    "    doc=nlp(data[i])\n",
    "    #print(doc)\n",
    "\n",
    "        \n",
    "    for ent in doc.ents:\n",
    "        if ent.label_=='WORK_OF_ART':\n",
    "            print(ent.text, ent.label_)\n",
    "        \n",
    "\n",
    "    \n",
    "    "
   ]
  },
  {
   "cell_type": "code",
   "execution_count": 58,
   "metadata": {},
   "outputs": [
    {
     "name": "stdout",
     "output_type": "stream",
     "text": [
      "season DATE\n",
      "October DATE\n",
      "last week DATE\n",
      "Monday DATE\n",
      "most years DATE\n",
      "December DATE\n",
      "2021 DATE\n",
      "most years DATE\n",
      "last month DATE\n",
      "the previous year DATE\n",
      "2020 DATE\n",
      "Monday DATE\n",
      "Tuesday DATE\n",
      "Wednesday DATE\n",
      "Thursday DATE\n",
      "Friday DATE\n",
      "Monday DATE\n"
     ]
    }
   ],
   "source": [
    "for i in range(len(data)):\n",
    "    doc=nlp(data[i])\n",
    "    #print(doc)\n",
    "\n",
    "        \n",
    "    for ent in doc.ents:\n",
    "        if ent.label_=='DATE':\n",
    "            print(ent.text, ent.label_)"
   ]
  },
  {
   "cell_type": "code",
   "execution_count": null,
   "metadata": {},
   "outputs": [],
   "source": []
  }
 ],
 "metadata": {
  "kernelspec": {
   "display_name": "Python 3",
   "language": "python",
   "name": "python3"
  },
  "language_info": {
   "codemirror_mode": {
    "name": "ipython",
    "version": 3
   },
   "file_extension": ".py",
   "mimetype": "text/x-python",
   "name": "python",
   "nbconvert_exporter": "python",
   "pygments_lexer": "ipython3",
   "version": "3.7.3"
  }
 },
 "nbformat": 4,
 "nbformat_minor": 2
}
